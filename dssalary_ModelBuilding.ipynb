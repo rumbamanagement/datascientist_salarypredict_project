{
 "cells": [
  {
   "cell_type": "markdown",
   "metadata": {},
   "source": [
    "## Model Building"
   ]
  },
  {
   "cell_type": "markdown",
   "metadata": {},
   "source": [
    "### After completion of exploratory data analysis, the process of model development is carried out. The required libraries are imported with dataset."
   ]
  },
  {
   "cell_type": "code",
   "execution_count": 1,
   "metadata": {
    "scrolled": false
   },
   "outputs": [
    {
     "name": "stdout",
     "output_type": "stream",
     "text": [
      "   Unnamed: 0                  Job Title              Salary Estimate  \\\n",
      "0           0             Data Scientist   $53K-$91K (Glassdoor est.)   \n",
      "1           1  Healthcare Data Scientist  $63K-$112K (Glassdoor est.)   \n",
      "2           2             Data Scientist   $80K-$90K (Glassdoor est.)   \n",
      "3           3             Data Scientist   $56K-$97K (Glassdoor est.)   \n",
      "4           4             Data Scientist  $86K-$143K (Glassdoor est.)   \n",
      "\n",
      "                                     Job Description  Rating  \\\n",
      "0  Data Scientist\\nLocation: Albuquerque, NM\\nEdu...     3.8   \n",
      "1  What You Will Do:\\n\\nI. General Summary\\n\\nThe...     3.4   \n",
      "2  KnowBe4, Inc. is a high growth information sec...     4.8   \n",
      "3  *Organization and Job ID**\\nJob ID: 310709\\n\\n...     3.8   \n",
      "4  Data Scientist\\nAffinity Solutions / Marketing...     2.9   \n",
      "\n",
      "                                 Company Name         Location  \\\n",
      "0                      Tecolote Research\\n3.8  Albuquerque, NM   \n",
      "1  University of Maryland Medical System\\n3.4    Linthicum, MD   \n",
      "2                                KnowBe4\\n4.8   Clearwater, FL   \n",
      "3                                   PNNL\\n3.8     Richland, WA   \n",
      "4                     Affinity Solutions\\n2.9     New York, NY   \n",
      "\n",
      "     Headquarters                    Size  Founded  ... SQL R_Studio Power_BI  \\\n",
      "0      Goleta, CA   501 to 1000 employees     1973  ...   0        0        1   \n",
      "1   Baltimore, MD        10000+ employees     1984  ...   0        0        0   \n",
      "2  Clearwater, FL   501 to 1000 employees     2010  ...   1        0        0   \n",
      "3    Richland, WA  1001 to 5000 employees     1965  ...   0        0        0   \n",
      "4    New York, NY     51 to 200 employees     1998  ...   1        0        0   \n",
      "\n",
      "  AWS Excel        Job_Simp  Seniority  Job_State  Desc_Len  Num_Comp  \n",
      "0   0     1  data scientist         na         NM      2536         0  \n",
      "1   0     0  data scientist         na         MD      4783         0  \n",
      "2   0     1  data scientist         na         FL      3461         0  \n",
      "3   0     0  data scientist         na         WA      3883         3  \n",
      "4   0     1  data scientist         na         NY      2728         3  \n",
      "\n",
      "[5 rows x 38 columns]\n"
     ]
    }
   ],
   "source": [
    "#Modeling Building\n",
    "\n",
    "import pandas as pd \n",
    "import matplotlib.pyplot as plt \n",
    "import numpy as np \n",
    "\n",
    "df=pd.read_csv(\"/Users/arjunrumba/Documents/ds_project/eda_data.csv\")\n",
    "print(df.head())"
   ]
  },
  {
   "cell_type": "markdown",
   "metadata": {},
   "source": [
    "### The relevant columns are selected. "
   ]
  },
  {
   "cell_type": "code",
   "execution_count": 23,
   "metadata": {},
   "outputs": [
    {
     "name": "stdout",
     "output_type": "stream",
     "text": [
      "Index(['Unnamed: 0', 'Job Title', 'Salary Estimate', 'Job Description',\n",
      "       'Rating', 'Company Name', 'Location', 'Headquarters', 'Size', 'Founded',\n",
      "       'Type of ownership', 'Industry', 'Sector', 'Revenue', 'Competitors',\n",
      "       'Hourly', 'Provided Salary', 'Min_Salary', 'Max_Salary', 'Avg_Salary',\n",
      "       'Company_txt', 'Location_Name', 'Same_State', 'Age', 'Python',\n",
      "       'Statistics', 'Web_Scrapping', 'Tableau', 'SQL', 'R_Studio', 'Power_BI',\n",
      "       'AWS', 'Excel', 'Job_Simp', 'Seniority', 'Job_State', 'Desc_Len',\n",
      "       'Num_Comp'],\n",
      "      dtype='object')\n"
     ]
    }
   ],
   "source": [
    "#choose relevant columns\n",
    "print(df.columns)\n",
    "\n",
    "df_model=[['Avg_Salary','Rating', 'Size','Type of ownership','Industry','Sector','Revenue','Num_Comp','Hourly','Provided Salary','Job_State','Same_State','Age','Python','Statistics','Web_Scrapping','Tableau', 'Job_Simp','Seniority','Desc_Len']]"
   ]
  },
  {
   "cell_type": "code",
   "execution_count": 24,
   "metadata": {},
   "outputs": [],
   "source": [
    "#get dummy variables\n",
    "df_dummy=pd.get_dummies(df[['Avg_Salary','Rating', 'Size','Type of ownership','Industry','Sector','Revenue','Num_Comp','Hourly','Provided Salary','Job_State','Same_State','Age','Python','Statistics','Web_Scrapping','Tableau', 'Job_Simp','Seniority','Desc_Len']])"
   ]
  },
  {
   "cell_type": "code",
   "execution_count": 25,
   "metadata": {},
   "outputs": [
    {
     "data": {
      "text/html": [
       "<div>\n",
       "<style scoped>\n",
       "    .dataframe tbody tr th:only-of-type {\n",
       "        vertical-align: middle;\n",
       "    }\n",
       "\n",
       "    .dataframe tbody tr th {\n",
       "        vertical-align: top;\n",
       "    }\n",
       "\n",
       "    .dataframe thead th {\n",
       "        text-align: right;\n",
       "    }\n",
       "</style>\n",
       "<table border=\"1\" class=\"dataframe\">\n",
       "  <thead>\n",
       "    <tr style=\"text-align: right;\">\n",
       "      <th></th>\n",
       "      <th>Avg_Salary</th>\n",
       "      <th>Rating</th>\n",
       "      <th>Num_Comp</th>\n",
       "      <th>Hourly</th>\n",
       "      <th>Provided Salary</th>\n",
       "      <th>Same_State</th>\n",
       "      <th>Age</th>\n",
       "      <th>Python</th>\n",
       "      <th>Statistics</th>\n",
       "      <th>Web_Scrapping</th>\n",
       "      <th>...</th>\n",
       "      <th>Job_Simp_analyst</th>\n",
       "      <th>Job_Simp_data engineer</th>\n",
       "      <th>Job_Simp_data scientist</th>\n",
       "      <th>Job_Simp_director</th>\n",
       "      <th>Job_Simp_machine learning</th>\n",
       "      <th>Job_Simp_manager</th>\n",
       "      <th>Job_Simp_na</th>\n",
       "      <th>Seniority_junior</th>\n",
       "      <th>Seniority_na</th>\n",
       "      <th>Seniority_senior</th>\n",
       "    </tr>\n",
       "  </thead>\n",
       "  <tbody>\n",
       "    <tr>\n",
       "      <td>0</td>\n",
       "      <td>72.0</td>\n",
       "      <td>3.8</td>\n",
       "      <td>0</td>\n",
       "      <td>0</td>\n",
       "      <td>0</td>\n",
       "      <td>0</td>\n",
       "      <td>47</td>\n",
       "      <td>1</td>\n",
       "      <td>0</td>\n",
       "      <td>0</td>\n",
       "      <td>...</td>\n",
       "      <td>0</td>\n",
       "      <td>0</td>\n",
       "      <td>1</td>\n",
       "      <td>0</td>\n",
       "      <td>0</td>\n",
       "      <td>0</td>\n",
       "      <td>0</td>\n",
       "      <td>0</td>\n",
       "      <td>1</td>\n",
       "      <td>0</td>\n",
       "    </tr>\n",
       "    <tr>\n",
       "      <td>1</td>\n",
       "      <td>87.5</td>\n",
       "      <td>3.4</td>\n",
       "      <td>0</td>\n",
       "      <td>0</td>\n",
       "      <td>0</td>\n",
       "      <td>0</td>\n",
       "      <td>36</td>\n",
       "      <td>1</td>\n",
       "      <td>1</td>\n",
       "      <td>0</td>\n",
       "      <td>...</td>\n",
       "      <td>0</td>\n",
       "      <td>0</td>\n",
       "      <td>1</td>\n",
       "      <td>0</td>\n",
       "      <td>0</td>\n",
       "      <td>0</td>\n",
       "      <td>0</td>\n",
       "      <td>0</td>\n",
       "      <td>1</td>\n",
       "      <td>0</td>\n",
       "    </tr>\n",
       "    <tr>\n",
       "      <td>2</td>\n",
       "      <td>85.0</td>\n",
       "      <td>4.8</td>\n",
       "      <td>0</td>\n",
       "      <td>0</td>\n",
       "      <td>0</td>\n",
       "      <td>1</td>\n",
       "      <td>10</td>\n",
       "      <td>1</td>\n",
       "      <td>1</td>\n",
       "      <td>0</td>\n",
       "      <td>...</td>\n",
       "      <td>0</td>\n",
       "      <td>0</td>\n",
       "      <td>1</td>\n",
       "      <td>0</td>\n",
       "      <td>0</td>\n",
       "      <td>0</td>\n",
       "      <td>0</td>\n",
       "      <td>0</td>\n",
       "      <td>1</td>\n",
       "      <td>0</td>\n",
       "    </tr>\n",
       "    <tr>\n",
       "      <td>3</td>\n",
       "      <td>76.5</td>\n",
       "      <td>3.8</td>\n",
       "      <td>3</td>\n",
       "      <td>0</td>\n",
       "      <td>0</td>\n",
       "      <td>1</td>\n",
       "      <td>55</td>\n",
       "      <td>1</td>\n",
       "      <td>1</td>\n",
       "      <td>0</td>\n",
       "      <td>...</td>\n",
       "      <td>0</td>\n",
       "      <td>0</td>\n",
       "      <td>1</td>\n",
       "      <td>0</td>\n",
       "      <td>0</td>\n",
       "      <td>0</td>\n",
       "      <td>0</td>\n",
       "      <td>0</td>\n",
       "      <td>1</td>\n",
       "      <td>0</td>\n",
       "    </tr>\n",
       "    <tr>\n",
       "      <td>4</td>\n",
       "      <td>114.5</td>\n",
       "      <td>2.9</td>\n",
       "      <td>3</td>\n",
       "      <td>0</td>\n",
       "      <td>0</td>\n",
       "      <td>1</td>\n",
       "      <td>22</td>\n",
       "      <td>1</td>\n",
       "      <td>1</td>\n",
       "      <td>0</td>\n",
       "      <td>...</td>\n",
       "      <td>0</td>\n",
       "      <td>0</td>\n",
       "      <td>1</td>\n",
       "      <td>0</td>\n",
       "      <td>0</td>\n",
       "      <td>0</td>\n",
       "      <td>0</td>\n",
       "      <td>0</td>\n",
       "      <td>1</td>\n",
       "      <td>0</td>\n",
       "    </tr>\n",
       "    <tr>\n",
       "      <td>...</td>\n",
       "      <td>...</td>\n",
       "      <td>...</td>\n",
       "      <td>...</td>\n",
       "      <td>...</td>\n",
       "      <td>...</td>\n",
       "      <td>...</td>\n",
       "      <td>...</td>\n",
       "      <td>...</td>\n",
       "      <td>...</td>\n",
       "      <td>...</td>\n",
       "      <td>...</td>\n",
       "      <td>...</td>\n",
       "      <td>...</td>\n",
       "      <td>...</td>\n",
       "      <td>...</td>\n",
       "      <td>...</td>\n",
       "      <td>...</td>\n",
       "      <td>...</td>\n",
       "      <td>...</td>\n",
       "      <td>...</td>\n",
       "      <td>...</td>\n",
       "    </tr>\n",
       "    <tr>\n",
       "      <td>737</td>\n",
       "      <td>84.5</td>\n",
       "      <td>3.9</td>\n",
       "      <td>3</td>\n",
       "      <td>0</td>\n",
       "      <td>0</td>\n",
       "      <td>0</td>\n",
       "      <td>190</td>\n",
       "      <td>0</td>\n",
       "      <td>0</td>\n",
       "      <td>0</td>\n",
       "      <td>...</td>\n",
       "      <td>0</td>\n",
       "      <td>0</td>\n",
       "      <td>0</td>\n",
       "      <td>0</td>\n",
       "      <td>0</td>\n",
       "      <td>0</td>\n",
       "      <td>1</td>\n",
       "      <td>0</td>\n",
       "      <td>0</td>\n",
       "      <td>1</td>\n",
       "    </tr>\n",
       "    <tr>\n",
       "      <td>738</td>\n",
       "      <td>102.5</td>\n",
       "      <td>4.4</td>\n",
       "      <td>3</td>\n",
       "      <td>0</td>\n",
       "      <td>0</td>\n",
       "      <td>0</td>\n",
       "      <td>14</td>\n",
       "      <td>1</td>\n",
       "      <td>0</td>\n",
       "      <td>0</td>\n",
       "      <td>...</td>\n",
       "      <td>0</td>\n",
       "      <td>1</td>\n",
       "      <td>0</td>\n",
       "      <td>0</td>\n",
       "      <td>0</td>\n",
       "      <td>0</td>\n",
       "      <td>0</td>\n",
       "      <td>0</td>\n",
       "      <td>0</td>\n",
       "      <td>1</td>\n",
       "    </tr>\n",
       "    <tr>\n",
       "      <td>739</td>\n",
       "      <td>73.5</td>\n",
       "      <td>2.6</td>\n",
       "      <td>0</td>\n",
       "      <td>0</td>\n",
       "      <td>0</td>\n",
       "      <td>1</td>\n",
       "      <td>36</td>\n",
       "      <td>0</td>\n",
       "      <td>1</td>\n",
       "      <td>0</td>\n",
       "      <td>...</td>\n",
       "      <td>0</td>\n",
       "      <td>0</td>\n",
       "      <td>0</td>\n",
       "      <td>0</td>\n",
       "      <td>0</td>\n",
       "      <td>0</td>\n",
       "      <td>1</td>\n",
       "      <td>0</td>\n",
       "      <td>1</td>\n",
       "      <td>0</td>\n",
       "    </tr>\n",
       "    <tr>\n",
       "      <td>740</td>\n",
       "      <td>127.5</td>\n",
       "      <td>3.2</td>\n",
       "      <td>0</td>\n",
       "      <td>0</td>\n",
       "      <td>0</td>\n",
       "      <td>0</td>\n",
       "      <td>-1</td>\n",
       "      <td>0</td>\n",
       "      <td>0</td>\n",
       "      <td>0</td>\n",
       "      <td>...</td>\n",
       "      <td>0</td>\n",
       "      <td>0</td>\n",
       "      <td>0</td>\n",
       "      <td>0</td>\n",
       "      <td>0</td>\n",
       "      <td>1</td>\n",
       "      <td>0</td>\n",
       "      <td>0</td>\n",
       "      <td>1</td>\n",
       "      <td>0</td>\n",
       "    </tr>\n",
       "    <tr>\n",
       "      <td>741</td>\n",
       "      <td>93.5</td>\n",
       "      <td>3.6</td>\n",
       "      <td>0</td>\n",
       "      <td>0</td>\n",
       "      <td>0</td>\n",
       "      <td>0</td>\n",
       "      <td>53</td>\n",
       "      <td>1</td>\n",
       "      <td>0</td>\n",
       "      <td>0</td>\n",
       "      <td>...</td>\n",
       "      <td>0</td>\n",
       "      <td>0</td>\n",
       "      <td>0</td>\n",
       "      <td>0</td>\n",
       "      <td>0</td>\n",
       "      <td>0</td>\n",
       "      <td>1</td>\n",
       "      <td>0</td>\n",
       "      <td>1</td>\n",
       "      <td>0</td>\n",
       "    </tr>\n",
       "  </tbody>\n",
       "</table>\n",
       "<p>742 rows × 178 columns</p>\n",
       "</div>"
      ],
      "text/plain": [
       "     Avg_Salary  Rating  Num_Comp  Hourly  Provided Salary  Same_State  Age  \\\n",
       "0          72.0     3.8         0       0                0           0   47   \n",
       "1          87.5     3.4         0       0                0           0   36   \n",
       "2          85.0     4.8         0       0                0           1   10   \n",
       "3          76.5     3.8         3       0                0           1   55   \n",
       "4         114.5     2.9         3       0                0           1   22   \n",
       "..          ...     ...       ...     ...              ...         ...  ...   \n",
       "737        84.5     3.9         3       0                0           0  190   \n",
       "738       102.5     4.4         3       0                0           0   14   \n",
       "739        73.5     2.6         0       0                0           1   36   \n",
       "740       127.5     3.2         0       0                0           0   -1   \n",
       "741        93.5     3.6         0       0                0           0   53   \n",
       "\n",
       "     Python  Statistics  Web_Scrapping  ...  Job_Simp_analyst  \\\n",
       "0         1           0              0  ...                 0   \n",
       "1         1           1              0  ...                 0   \n",
       "2         1           1              0  ...                 0   \n",
       "3         1           1              0  ...                 0   \n",
       "4         1           1              0  ...                 0   \n",
       "..      ...         ...            ...  ...               ...   \n",
       "737       0           0              0  ...                 0   \n",
       "738       1           0              0  ...                 0   \n",
       "739       0           1              0  ...                 0   \n",
       "740       0           0              0  ...                 0   \n",
       "741       1           0              0  ...                 0   \n",
       "\n",
       "     Job_Simp_data engineer  Job_Simp_data scientist  Job_Simp_director  \\\n",
       "0                         0                        1                  0   \n",
       "1                         0                        1                  0   \n",
       "2                         0                        1                  0   \n",
       "3                         0                        1                  0   \n",
       "4                         0                        1                  0   \n",
       "..                      ...                      ...                ...   \n",
       "737                       0                        0                  0   \n",
       "738                       1                        0                  0   \n",
       "739                       0                        0                  0   \n",
       "740                       0                        0                  0   \n",
       "741                       0                        0                  0   \n",
       "\n",
       "     Job_Simp_machine learning  Job_Simp_manager  Job_Simp_na  \\\n",
       "0                            0                 0            0   \n",
       "1                            0                 0            0   \n",
       "2                            0                 0            0   \n",
       "3                            0                 0            0   \n",
       "4                            0                 0            0   \n",
       "..                         ...               ...          ...   \n",
       "737                          0                 0            1   \n",
       "738                          0                 0            0   \n",
       "739                          0                 0            1   \n",
       "740                          0                 1            0   \n",
       "741                          0                 0            1   \n",
       "\n",
       "     Seniority_junior  Seniority_na  Seniority_senior  \n",
       "0                   0             1                 0  \n",
       "1                   0             1                 0  \n",
       "2                   0             1                 0  \n",
       "3                   0             1                 0  \n",
       "4                   0             1                 0  \n",
       "..                ...           ...               ...  \n",
       "737                 0             0                 1  \n",
       "738                 0             0                 1  \n",
       "739                 0             1                 0  \n",
       "740                 0             1                 0  \n",
       "741                 0             1                 0  \n",
       "\n",
       "[742 rows x 178 columns]"
      ]
     },
     "execution_count": 25,
     "metadata": {},
     "output_type": "execute_result"
    }
   ],
   "source": [
    "df_dummy"
   ]
  },
  {
   "cell_type": "markdown",
   "metadata": {},
   "source": [
    "### The data split into training data and test data. The training set contains a known output and the model learns on this data in order to be generalized to other data later on. The test data will be used to test model's prediction. "
   ]
  },
  {
   "cell_type": "code",
   "execution_count": 26,
   "metadata": {},
   "outputs": [],
   "source": [
    "#train test split\n",
    "from sklearn.model_selection import train_test_split\n",
    "\n",
    "x=df_dummy.drop('Avg_Salary', axis=1)\n",
    "y=df_dummy.Avg_Salary.values\n",
    "\n",
    "x_train, x_test, y_train, y_test = train_test_split(x,y,test_size=0.2, random_state=42)"
   ]
  },
  {
   "cell_type": "markdown",
   "metadata": {},
   "source": [
    "### Three different models are in use. \n",
    "### They are Multiple Linear Regression, LASSO Regression and Random Forest."
   ]
  },
  {
   "cell_type": "code",
   "execution_count": 6,
   "metadata": {},
   "outputs": [
    {
     "name": "stdout",
     "output_type": "stream",
     "text": [
      "                            OLS Regression Results                            \n",
      "==============================================================================\n",
      "Dep. Variable:                      y   R-squared:                       0.711\n",
      "Model:                            OLS   Adj. R-squared:                  0.642\n",
      "Method:                 Least Squares   F-statistic:                     10.36\n",
      "Date:                Sat, 11 Jul 2020   Prob (F-statistic):           9.86e-96\n",
      "Time:                        12:28:02   Log-Likelihood:                -3307.9\n",
      "No. Observations:                 742   AIC:                             6902.\n",
      "Df Residuals:                     599   BIC:                             7561.\n",
      "Df Model:                         142                                         \n",
      "Covariance Type:            nonrobust                                         \n",
      "=====================================================================================================================\n",
      "                                                        coef    std err          t      P>|t|      [0.025      0.975]\n",
      "---------------------------------------------------------------------------------------------------------------------\n",
      "const                                                42.8077      6.380      6.710      0.000      30.278      55.337\n",
      "Rating                                                3.5803      1.935      1.850      0.065      -0.220       7.381\n",
      "Num_Comp                                              2.1674      0.862      2.514      0.012       0.474       3.861\n",
      "Hourly                                              -36.8601      9.096     -4.052      0.000     -54.724     -18.997\n",
      "Provided Salary                                      33.6250     11.377      2.956      0.003      11.282      55.968\n",
      "Same_State                                            2.3529      2.558      0.920      0.358      -2.671       7.377\n",
      "Age                                                   0.0337      0.030      1.122      0.262      -0.025       0.093\n",
      "Python                                                8.7949      2.501      3.517      0.000       3.883      13.707\n",
      "Statistics                                            1.8731      2.530      0.740      0.459      -3.095       6.842\n",
      "Web_Scrapping                                        15.1981     24.273      0.626      0.531     -32.472      62.868\n",
      "Tableau                                              -6.7650      2.904     -2.330      0.020     -12.468      -1.062\n",
      "Desc_Len                                             -0.0002      0.001     -0.292      0.770      -0.002       0.001\n",
      "Size_-1                                              12.9969      8.581      1.515      0.130      -3.856      29.850\n",
      "Size_1 to 50 employees                                1.3904      6.427      0.216      0.829     -11.231      14.012\n",
      "Size_10000+ employees                                -3.9708      5.794     -0.685      0.493     -15.351       7.409\n",
      "Size_1001 to 5000 employees                           6.8478      3.835      1.786      0.075      -0.684      14.379\n",
      "Size_201 to 500 employees                             3.0488      3.866      0.789      0.431      -4.544      10.641\n",
      "Size_5001 to 10000 employees                         -4.6578      5.411     -0.861      0.390     -15.284       5.968\n",
      "Size_501 to 1000 employees                            2.7948      4.047      0.691      0.490      -5.154      10.744\n",
      "Size_51 to 200 employees                              4.2170      4.362      0.967      0.334      -4.351      12.785\n",
      "Size_Unknown                                         20.1407     13.962      1.443      0.150      -7.280      47.561\n",
      "Type of ownership_-1                                 12.9969      8.581      1.515      0.130      -3.856      29.850\n",
      "Type of ownership_College / University                1.3956     17.722      0.079      0.937     -33.410      36.201\n",
      "Type of ownership_Company - Private                   8.7910      5.167      1.701      0.089      -1.356      18.938\n",
      "Type of ownership_Company - Public                   13.5659      5.642      2.405      0.016       2.486      24.646\n",
      "Type of ownership_Government                        -11.8156     15.231     -0.776      0.438     -41.728      18.097\n",
      "Type of ownership_Hospital                           -5.2862      9.985     -0.529      0.597     -24.895      14.323\n",
      "Type of ownership_Nonprofit Organization             -7.3218      6.780     -1.080      0.281     -20.637       5.994\n",
      "Type of ownership_Other Organization                 -3.6893     14.229     -0.259      0.796     -31.635      24.256\n",
      "Type of ownership_School / School District          -13.8852     23.747     -0.585      0.559     -60.522      32.751\n",
      "Type of ownership_Subsidiary or Business Segment     13.4650      6.875      1.958      0.051      -0.038      26.968\n",
      "Type of ownership_Unknown                            34.5915     28.389      1.218      0.224     -21.162      90.345\n",
      "Industry_-1                                           5.4561      7.897      0.691      0.490     -10.053      20.966\n",
      "Industry_Accounting                                   1.6908     13.340      0.127      0.899     -24.507      27.889\n",
      "Industry_Advertising & Marketing                     13.4282      5.979      2.246      0.025       1.687      25.170\n",
      "Industry_Aerospace & Defense                          5.7953      3.083      1.880      0.061      -0.260      11.851\n",
      "Industry_Architectural & Engineering Services       -31.8289     15.815     -2.013      0.045     -62.888      -0.770\n",
      "Industry_Auctions & Galleries                         8.7652     22.780      0.385      0.701     -35.973      53.504\n",
      "Industry_Banks & Credit Unions                      -17.3728      7.954     -2.184      0.029     -32.994      -1.751\n",
      "Industry_Beauty & Personal Accessories Stores        16.1024     21.516      0.748      0.455     -26.153      58.358\n",
      "Industry_Biotech & Pharmaceuticals                    6.3539      2.039      3.116      0.002       2.349      10.358\n",
      "Industry_Brokerage Services                          27.9313     15.422      1.811      0.071      -2.357      58.220\n",
      "Industry_Colleges & Universities                     11.0400     12.910      0.855      0.393     -14.315      36.395\n",
      "Industry_Computer Hardware & Software                -0.0702      3.252     -0.022      0.983      -6.457       6.316\n",
      "Industry_Construction                               -16.5476     10.500     -1.576      0.116     -37.169       4.074\n",
      "Industry_Consulting                                  15.7727      5.956      2.648      0.008       4.075      27.470\n",
      "Industry_Consumer Product Rental                     -2.6876     12.916     -0.208      0.835     -28.054      22.679\n",
      "Industry_Consumer Products Manufacturing             12.9504      9.737      1.330      0.184      -6.172      32.073\n",
      "Industry_Department, Clothing, & Shoe Stores          4.5250     11.495      0.394      0.694     -18.050      27.100\n",
      "Industry_Education Training Services                -22.3057     12.374     -1.803      0.072     -46.608       1.997\n",
      "Industry_Energy                                      -6.4794      7.678     -0.844      0.399     -21.558       8.599\n",
      "Industry_Enterprise Software & Network Solutions      8.8508      3.598      2.460      0.014       1.785      15.917\n",
      "Industry_Farm Support Services                       -0.8523     12.585     -0.068      0.946     -25.568      23.863\n",
      "Industry_Federal Agencies                             9.1128      5.184      1.758      0.079      -1.069      19.295\n",
      "Industry_Financial Analytics & Research              -1.1242      9.163     -0.123      0.902     -19.119      16.871\n",
      "Industry_Financial Transaction Processing           -17.2082     12.823     -1.342      0.180     -42.392       7.976\n",
      "Industry_Food & Beverage Manufacturing               -5.6658     11.484     -0.493      0.622     -28.219      16.887\n",
      "Industry_Gambling                                    -7.1772      6.546     -1.096      0.273     -20.034       5.679\n",
      "Industry_Gas Stations                               -24.4636     15.356     -1.593      0.112     -54.622       5.695\n",
      "Industry_Health Care Products Manufacturing          27.5882     22.026      1.253      0.211     -15.669      70.845\n",
      "Industry_Health Care Services & Hospitals             5.6699      2.906      1.951      0.051      -0.037      11.376\n",
      "Industry_Health, Beauty, & Fitness                   -3.2857     17.288     -0.190      0.849     -37.238      30.666\n",
      "Industry_IT Services                                  2.3550      3.578      0.658      0.511      -4.673       9.383\n",
      "Industry_Industrial Manufacturing                   -12.7300     12.832     -0.992      0.322     -37.931      12.471\n",
      "Industry_Insurance Agencies & Brokerages             -4.8272      6.927     -0.697      0.486     -18.431       8.776\n",
      "Industry_Insurance Carriers                           5.5961      4.436      1.261      0.208      -3.117      14.309\n",
      "Industry_Internet                                    -0.9496      4.367     -0.217      0.828      -9.525       7.626\n",
      "Industry_Investment Banking & Asset Management       35.9740     12.042      2.987      0.003      12.324      59.624\n",
      "Industry_K-12 Education                              11.8817     14.621      0.813      0.417     -16.832      40.596\n",
      "Industry_Lending                                      0.4693      9.808      0.048      0.962     -18.794      19.732\n",
      "Industry_Logistics & Supply Chain                     1.3509     13.104      0.103      0.918     -24.385      27.087\n",
      "Industry_Metals Brokers                              -2.0471     15.687     -0.130      0.896     -32.855      28.761\n",
      "Industry_Mining                                      -7.1704     17.939     -0.400      0.690     -42.402      28.061\n",
      "Industry_Motion Picture Production & Distribution    43.6322     19.514      2.236      0.026       5.308      81.956\n",
      "Industry_Other Retail Stores                         39.8897     21.582      1.848      0.065      -2.496      82.275\n",
      "Industry_Real Estate                                 -2.3349      4.932     -0.473      0.636     -12.021       7.351\n",
      "Industry_Religious Organizations                     25.2207     13.658      1.847      0.065      -1.602      52.043\n",
      "Industry_Research & Development                      -3.9639      6.525     -0.607      0.544     -16.779       8.851\n",
      "Industry_Security Services                           12.2363      9.664      1.266      0.206      -6.744      31.216\n",
      "Industry_Social Assistance                          -12.4632     11.748     -1.061      0.289     -35.536      10.610\n",
      "Industry_Sporting Goods Stores                      -39.2637     17.768     -2.210      0.027     -74.159      -4.368\n",
      "Industry_Staffing & Outsourcing                      -7.2395     10.854     -0.667      0.505     -28.555      14.076\n",
      "Industry_Stock Exchanges                            -15.4380      7.774     -1.986      0.048     -30.705      -0.171\n",
      "Industry_TV Broadcast & Cable Networks                4.6299     15.548      0.298      0.766     -25.904      35.164\n",
      "Industry_Telecommunications Manufacturing             4.2917     13.474      0.319      0.750     -22.171      30.754\n",
      "Industry_Telecommunications Services                 -0.2976     11.040     -0.027      0.979     -21.979      21.384\n",
      "Industry_Transportation Equipment Manufacturing     -22.0336     23.391     -0.942      0.347     -67.972      23.905\n",
      "Industry_Transportation Management                  -21.4049     13.883     -1.542      0.124     -48.670       5.861\n",
      "Industry_Travel Agencies                             -5.9408      5.224     -1.137      0.256     -16.201       4.320\n",
      "Industry_Trucking                                    24.1043     19.683      1.225      0.221     -14.552      62.760\n",
      "Industry_Video Games                                -32.0595     14.352     -2.234      0.026     -60.245      -3.874\n",
      "Industry_Wholesale                                   -2.6241     13.001     -0.202      0.840     -28.156      22.908\n",
      "Sector_-1                                             5.4561      7.897      0.691      0.490     -10.053      20.966\n",
      "Sector_Accounting & Legal                             1.6908     13.340      0.127      0.899     -24.507      27.889\n",
      "Sector_Aerospace & Defense                            5.7953      3.083      1.880      0.061      -0.260      11.851\n",
      "Sector_Agriculture & Forestry                        -0.8523     12.585     -0.068      0.946     -25.568      23.863\n",
      "Sector_Arts, Entertainment & Recreation              -7.1772      6.546     -1.096      0.273     -20.034       5.679\n",
      "Sector_Biotech & Pharmaceuticals                      6.3539      2.039      3.116      0.002       2.349      10.358\n",
      "Sector_Business Services                             -4.2192      4.186     -1.008      0.314     -12.441       4.002\n",
      "Sector_Construction, Repair & Maintenance           -16.5476     10.500     -1.576      0.116     -37.169       4.074\n",
      "Sector_Consumer Services                             -5.9732      9.383     -0.637      0.525     -24.400      12.453\n",
      "Sector_Education                                      0.6159      6.837      0.090      0.928     -12.812      14.044\n",
      "Sector_Finance                                       13.2314      4.461      2.966      0.003       4.470      21.993\n",
      "Sector_Government                                     9.1128      5.184      1.758      0.079      -1.069      19.295\n",
      "Sector_Health Care                                    5.6699      2.906      1.951      0.051      -0.037      11.376\n",
      "Sector_Information Technology                        10.1860      2.723      3.741      0.000       4.839      15.533\n",
      "Sector_Insurance                                      0.7689      3.936      0.195      0.845      -6.962       8.500\n",
      "Sector_Manufacturing                                  0.1092      6.832      0.016      0.987     -13.307      13.526\n",
      "Sector_Media                                         16.2027      8.690      1.864      0.063      -0.865      33.270\n",
      "Sector_Mining & Metals                               -9.2175     10.618     -0.868      0.386     -30.071      11.636\n",
      "Sector_Non-Profit                                    12.7575      8.895      1.434      0.152      -4.712      30.227\n",
      "Sector_Oil, Gas, Energy & Utilities                  -6.4794      7.678     -0.844      0.399     -21.558       8.599\n",
      "Sector_Real Estate                                   -2.3349      4.932     -0.473      0.636     -12.021       7.351\n",
      "Sector_Retail                                         5.5550      7.124      0.780      0.436      -8.435      19.545\n",
      "Sector_Telecommunications                             3.9941      7.737      0.516      0.606     -11.200      19.188\n",
      "Sector_Transportation & Logistics                     4.0504      7.971      0.508      0.612     -11.605      19.705\n",
      "Sector_Travel & Tourism                              -5.9408      5.224     -1.137      0.256     -16.201       4.320\n",
      "Revenue_$1 to $2 billion (USD)                        2.1808      4.755      0.459      0.647      -7.158      11.519\n",
      "Revenue_$1 to $5 million (USD)                       -6.0830     10.851     -0.561      0.575     -27.394      15.228\n",
      "Revenue_$10 to $25 million (USD)                     -5.5236      5.187     -1.065      0.287     -15.710       4.663\n",
      "Revenue_$10+ billion (USD)                           11.7151      6.408      1.828      0.068      -0.869      24.300\n",
      "Revenue_$100 to $500 million (USD)                   -4.7166      4.009     -1.176      0.240     -12.590       3.157\n",
      "Revenue_$2 to $5 billion (USD)                       -0.2779      6.160     -0.045      0.964     -12.376      11.820\n",
      "Revenue_$25 to $50 million (USD)                     -6.2159      5.333     -1.166      0.244     -16.690       4.258\n",
      "Revenue_$5 to $10 billion (USD)                       8.7495      7.878      1.111      0.267      -6.723      24.222\n",
      "Revenue_$5 to $10 million (USD)                      31.4420      8.172      3.847      0.000      15.392      47.492\n",
      "Revenue_$50 to $100 million (USD)                     5.3694      4.911      1.093      0.275      -4.276      15.015\n",
      "Revenue_$500 million to $1 billion (USD)             -1.5840      5.258     -0.301      0.763     -11.910       8.743\n",
      "Revenue_-1                                           12.9969      8.581      1.515      0.130      -3.856      29.850\n",
      "Revenue_Less than $1 million (USD)                   -4.3102     15.091     -0.286      0.775     -33.947      25.327\n",
      "Revenue_Unknown / Non-Applicable                     -0.9348      3.062     -0.305      0.760      -6.948       5.079\n",
      "Job_State_AL                                         -6.3525     10.405     -0.611      0.542     -26.788      14.083\n",
      "Job_State_AZ                                        -15.6168      8.547     -1.827      0.068     -32.403       1.169\n",
      "Job_State_CA                                         27.1252      3.153      8.604      0.000      20.933      33.317\n",
      "Job_State_CO                                          6.7191      8.256      0.814      0.416      -9.496      22.934\n",
      "Job_State_CT                                        -23.7476     11.210     -2.118      0.035     -45.764      -1.731\n",
      "Job_State_DC                                         13.9337      8.012      1.739      0.083      -1.801      29.668\n",
      "Job_State_DE                                          7.3633     13.784      0.534      0.593     -19.707      34.433\n",
      "Job_State_FL                                        -17.4662      7.619     -2.292      0.022     -32.429      -2.503\n",
      "Job_State_GA                                        -18.4842     10.049     -1.839      0.066     -38.219       1.251\n",
      "Job_State_IA                                          0.1562     12.426      0.013      0.990     -24.247      24.559\n",
      "Job_State_ID                                        -24.8071     18.199     -1.363      0.173     -60.548      10.934\n",
      "Job_State_IL                                          9.5483      5.017      1.903      0.057      -0.304      19.401\n",
      "Job_State_IN                                        -10.4706      8.738     -1.198      0.231     -27.632       6.691\n",
      "Job_State_KS                                        -15.4380      7.774     -1.986      0.048     -30.705      -0.171\n",
      "Job_State_KY                                         20.3639     12.250      1.662      0.097      -3.695      44.423\n",
      "Job_State_LA                                         -7.4007     12.941     -0.572      0.568     -32.816      18.015\n",
      "Job_State_MA                                          3.4181      3.867      0.884      0.377      -4.176      11.012\n",
      "Job_State_MD                                          7.6028      4.863      1.563      0.119      -1.948      17.154\n",
      "Job_State_MI                                          5.5403     12.329      0.449      0.653     -18.672      29.753\n",
      "Job_State_MN                                          4.5324     17.256      0.263      0.793     -29.358      38.423\n",
      "Job_State_MO                                         11.7109      9.765      1.199      0.231      -7.467      30.889\n",
      "Job_State_NC                                         -4.3551      6.687     -0.651      0.515     -17.488       8.778\n",
      "Job_State_NE                                         -3.3018     13.387     -0.247      0.805     -29.592      22.989\n",
      "Job_State_NJ                                          2.4977      6.769      0.369      0.712     -10.795      15.791\n",
      "Job_State_NM                                        -29.1799     14.391     -2.028      0.043     -57.442      -0.917\n",
      "Job_State_NY                                          5.8315      4.010      1.454      0.146      -2.044      13.707\n",
      "Job_State_OH                                         -3.0379      8.190     -0.371      0.711     -19.123      13.047\n",
      "Job_State_OR                                          4.6915     12.615      0.372      0.710     -20.083      29.466\n",
      "Job_State_PA                                         11.0929      7.152      1.551      0.121      -2.953      25.139\n",
      "Job_State_RI                                         36.7105     24.502      1.498      0.135     -11.409      84.830\n",
      "Job_State_SC                                         31.1079     29.013      1.072      0.284     -25.873      88.088\n",
      "Job_State_TN                                         -4.2148      9.164     -0.460      0.646     -22.212      13.783\n",
      "Job_State_TX                                          1.3138      5.618      0.234      0.815      -9.720      12.348\n",
      "Job_State_UT                                          5.4222     14.730      0.368      0.713     -23.507      34.351\n",
      "Job_State_VA                                         -0.4856      4.992     -0.097      0.923     -10.289       9.318\n",
      "Job_State_WA                                         13.2406      8.099      1.635      0.103      -2.666      29.147\n",
      "Job_State_WI                                         -2.7563     10.057     -0.274      0.784     -22.507      16.994\n",
      "Job_Simp_analyst                                    -30.4971      3.358     -9.083      0.000     -37.091     -23.903\n",
      "Job_Simp_data engineer                                1.9264      3.035      0.635      0.526      -4.033       7.886\n",
      "Job_Simp_data scientist                               7.5725      2.585      2.929      0.004       2.496      12.649\n",
      "Job_Simp_director                                    67.8349      6.522     10.401      0.000      55.026      80.643\n",
      "Job_Simp_machine learning                            20.1774      5.995      3.366      0.001       8.404      31.951\n",
      "Job_Simp_manager                                    -12.4346      5.580     -2.229      0.026     -23.392      -1.477\n",
      "Job_Simp_na                                         -11.7717      2.930     -4.017      0.000     -17.527      -6.017\n",
      "Seniority_junior                                      9.0768     11.041      0.822      0.411     -12.607      30.760\n",
      "Seniority_na                                          3.8864      4.369      0.889      0.374      -4.695      12.468\n",
      "Seniority_senior                                     29.8445      4.591      6.501      0.000      20.829      38.860\n",
      "==============================================================================\n",
      "Omnibus:                       65.882   Durbin-Watson:                   2.064\n",
      "Prob(Omnibus):                  0.000   Jarque-Bera (JB):              262.761\n",
      "Skew:                           0.304   Prob(JB):                     8.75e-58\n",
      "Kurtosis:                       5.851   Cond. No.                     1.91e+19\n",
      "==============================================================================\n",
      "\n",
      "Warnings:\n",
      "[1] Standard Errors assume that the covariance matrix of the errors is correctly specified.\n",
      "[2] The smallest eigenvalue is 3.52e-29. This might indicate that there are\n",
      "strong multicollinearity problems or that the design matrix is singular.\n"
     ]
    },
    {
     "name": "stderr",
     "output_type": "stream",
     "text": [
      "/Users/arjunrumba/opt/anaconda3/lib/python3.7/site-packages/numpy/core/fromnumeric.py:2495: FutureWarning: Method .ptp is deprecated and will be removed in a future version. Use numpy.ptp instead.\n",
      "  return ptp(axis=axis, out=out, **kwargs)\n"
     ]
    }
   ],
   "source": [
    "#multiple linear regression\n",
    "import statsmodels.api as sm\n",
    "\n",
    "x_sm =sm.add_constant(x)\n",
    "model=sm.OLS(y, x_sm)\n",
    "print(model.fit().summary())"
   ]
  },
  {
   "cell_type": "markdown",
   "metadata": {},
   "source": [
    "### Cross validation score compare and select a model for a given predictive modeling problem because it is easy to understand, easy to implement, and results in skill estimates that generally have a lower bias than other methods."
   ]
  },
  {
   "cell_type": "code",
   "execution_count": 31,
   "metadata": {},
   "outputs": [
    {
     "name": "stdout",
     "output_type": "stream",
     "text": [
      "Error_MLG: -23.363553052176446\n"
     ]
    }
   ],
   "source": [
    "from sklearn.linear_model import LinearRegression, Lasso\n",
    "from sklearn.model_selection import cross_val_score\n",
    "\n",
    "lm=LinearRegression()\n",
    "lm.fit(x_train, y_train)\n",
    "\n",
    "score=np.mean(cross_val_score(lm,x_train,y_train, scoring='neg_mean_absolute_error',cv=2))\n",
    "print(f\"Error_MLG: {score}\")"
   ]
  },
  {
   "cell_type": "code",
   "execution_count": 8,
   "metadata": {},
   "outputs": [
    {
     "name": "stdout",
     "output_type": "stream",
     "text": [
      "Error_lasso: -20.60382978212464\n"
     ]
    }
   ],
   "source": [
    "#lasso regression\n",
    "lm_l=Lasso(alpha=.13)\n",
    "lm_l.fit(x_train, y_train)\n",
    "score_l=np.mean(cross_val_score(lm_l,x_train,y_train, scoring='neg_mean_absolute_error',cv=2))\n",
    "print(f\"Error_lasso: {score_l}\")"
   ]
  },
  {
   "cell_type": "code",
   "execution_count": 9,
   "metadata": {},
   "outputs": [
    {
     "name": "stdout",
     "output_type": "stream",
     "text": [
      "Error_lasso: -21.562128290275922\n"
     ]
    },
    {
     "data": {
      "text/plain": [
       "[<matplotlib.lines.Line2D at 0x11661dc50>]"
      ]
     },
     "execution_count": 9,
     "metadata": {},
     "output_type": "execute_result"
    },
    {
     "data": {
      "image/png": "[encoded data removed]",
      "text/plain": [
       "<Figure size 432x288 with 1 Axes>"
      ]
     },
     "metadata": {
      "needs_background": "light"
     },
     "output_type": "display_data"
    }
   ],
   "source": [
    "#lasso regression\n",
    "lm_l=Lasso()\n",
    "lm_l.fit(x_train, y_train)\n",
    "score_l=np.mean(cross_val_score(lm_l,x_train,y_train, scoring='neg_mean_absolute_error',cv=2))\n",
    "print(f\"Error_lasso: {score_l}\")\n",
    "\n",
    "alpha=[]\n",
    "error=[]\n",
    "\n",
    "for i in range(1,100):\n",
    "    alpha.append(i/100)\n",
    "    lml=Lasso(alpha=(i/100))\n",
    "    error.append(np.mean(cross_val_score(lml,x_train,y_train, scoring='neg_mean_absolute_error',cv=2)))\n",
    "    \n",
    "\n",
    "err=tuple(zip(alpha,error))\n",
    "df_err=pd.DataFrame(err, columns=['alpha','error'])\n",
    "df_err[df_err.error==max(df_err.error)]\n",
    "\n",
    "plt.plot(alpha,error)"
   ]
  },
  {
   "cell_type": "code",
   "execution_count": 10,
   "metadata": {},
   "outputs": [
    {
     "data": {
      "text/html": [
       "<div>\n",
       "<style scoped>\n",
       "    .dataframe tbody tr th:only-of-type {\n",
       "        vertical-align: middle;\n",
       "    }\n",
       "\n",
       "    .dataframe tbody tr th {\n",
       "        vertical-align: top;\n",
       "    }\n",
       "\n",
       "    .dataframe thead th {\n",
       "        text-align: right;\n",
       "    }\n",
       "</style>\n",
       "<table border=\"1\" class=\"dataframe\">\n",
       "  <thead>\n",
       "    <tr style=\"text-align: right;\">\n",
       "      <th></th>\n",
       "      <th>alpha</th>\n",
       "      <th>error</th>\n",
       "    </tr>\n",
       "  </thead>\n",
       "  <tbody>\n",
       "    <tr>\n",
       "      <td>32</td>\n",
       "      <td>0.33</td>\n",
       "      <td>-20.066449</td>\n",
       "    </tr>\n",
       "  </tbody>\n",
       "</table>\n",
       "</div>"
      ],
      "text/plain": [
       "    alpha      error\n",
       "32   0.33 -20.066449"
      ]
     },
     "execution_count": 10,
     "metadata": {},
     "output_type": "execute_result"
    }
   ],
   "source": [
    "err=tuple(zip(alpha,error))\n",
    "df_err=pd.DataFrame(err, columns=['alpha','error'])\n",
    "df_err[df_err.error==max(df_err.error)]"
   ]
  },
  {
   "cell_type": "code",
   "execution_count": 14,
   "metadata": {},
   "outputs": [
    {
     "name": "stdout",
     "output_type": "stream",
     "text": [
      "Error_RF: -17.651340260715262\n"
     ]
    },
    {
     "name": "stderr",
     "output_type": "stream",
     "text": [
      "/Users/arjunrumba/opt/anaconda3/lib/python3.7/site-packages/sklearn/ensemble/forest.py:245: FutureWarning: The default value of n_estimators will change from 10 in version 0.20 to 100 in 0.22.\n",
      "  \"10 in version 0.20 to 100 in 0.22.\", FutureWarning)\n"
     ]
    }
   ],
   "source": [
    "#random forest\n",
    "from sklearn.ensemble import RandomForestRegressor\n",
    "rf=RandomForestRegressor()\n",
    "rf.fit(x_train, y_train)\n",
    "\n",
    "score_rf=(np.mean(cross_val_score(rf, x_train, y_train, scoring='neg_mean_absolute_error',cv=2)))\n",
    "print(f\"Error_RF: {score_rf}\")"
   ]
  },
  {
   "cell_type": "markdown",
   "metadata": {},
   "source": [
    "### Grid-search is used to find the optimal hyperparameters of a model which results in the most 'accurate' predictions."
   ]
  },
  {
   "cell_type": "code",
   "execution_count": 15,
   "metadata": {},
   "outputs": [
    {
     "name": "stderr",
     "output_type": "stream",
     "text": [
      "/Users/arjunrumba/opt/anaconda3/lib/python3.7/site-packages/sklearn/model_selection/_search.py:814: DeprecationWarning: The default of the `iid` parameter will change from True to False in version 0.22 and will be removed in 0.24. This will change numeric results when test-set sizes are unequal.\n",
      "  DeprecationWarning)\n"
     ]
    },
    {
     "data": {
      "text/plain": [
       "GridSearchCV(cv=2, error_score='raise-deprecating',\n",
       "             estimator=RandomForestRegressor(bootstrap=True, criterion='mse',\n",
       "                                             max_depth=None,\n",
       "                                             max_features='auto',\n",
       "                                             max_leaf_nodes=None,\n",
       "                                             min_impurity_decrease=0.0,\n",
       "                                             min_impurity_split=None,\n",
       "                                             min_samples_leaf=1,\n",
       "                                             min_samples_split=2,\n",
       "                                             min_weight_fraction_leaf=0.0,\n",
       "                                             n_estimators=10, n_jobs=None,\n",
       "                                             oob_score=False, random_state=None,\n",
       "                                             verbose=0, warm_start=False),\n",
       "             iid='warn', n_jobs=None,\n",
       "             param_grid={'criterion': ('mse', 'mae'),\n",
       "                         'max_features': ('auto', 'sqrt', 'log2'),\n",
       "                         'n_estimators': range(10, 300, 10)},\n",
       "             pre_dispatch='2*n_jobs', refit=True, return_train_score=False,\n",
       "             scoring='neg_mean_absolute_error', verbose=0)"
      ]
     },
     "execution_count": 15,
     "metadata": {},
     "output_type": "execute_result"
    }
   ],
   "source": [
    "#tune model gridsearchcv\n",
    "from sklearn.model_selection import GridSearchCV\n",
    "parameters = {'n_estimators':range(10,300,10), 'criterion':('mse','mae'), 'max_features':('auto','sqrt','log2')}\n",
    "\n",
    "gs = GridSearchCV(rf,parameters,scoring='neg_mean_absolute_error',cv=2)\n",
    "gs.fit(x_train,y_train)"
   ]
  },
  {
   "cell_type": "markdown",
   "metadata": {},
   "source": [
    "### Random Forest is the best model shown by Grid Search. "
   ]
  },
  {
   "cell_type": "markdown",
   "metadata": {},
   "source": [
    "### best_score_ is used to print the mean cross-validated score of the best_estimator. "
   ]
  },
  {
   "cell_type": "code",
   "execution_count": 18,
   "metadata": {},
   "outputs": [
    {
     "data": {
      "text/plain": [
       "-16.784480981824995"
      ]
     },
     "execution_count": 18,
     "metadata": {},
     "output_type": "execute_result"
    }
   ],
   "source": [
    "gs.best_score_"
   ]
  },
  {
   "cell_type": "markdown",
   "metadata": {},
   "source": [
    "### best_estimator_ is used to print the best estimator."
   ]
  },
  {
   "cell_type": "code",
   "execution_count": 17,
   "metadata": {},
   "outputs": [
    {
     "data": {
      "text/plain": [
       "RandomForestRegressor(bootstrap=True, criterion='mae', max_depth=None,\n",
       "                      max_features='auto', max_leaf_nodes=None,\n",
       "                      min_impurity_decrease=0.0, min_impurity_split=None,\n",
       "                      min_samples_leaf=1, min_samples_split=2,\n",
       "                      min_weight_fraction_leaf=0.0, n_estimators=180,\n",
       "                      n_jobs=None, oob_score=False, random_state=None,\n",
       "                      verbose=0, warm_start=False)"
      ]
     },
     "execution_count": 17,
     "metadata": {},
     "output_type": "execute_result"
    }
   ],
   "source": [
    "gs.best_estimator_"
   ]
  },
  {
   "cell_type": "markdown",
   "metadata": {},
   "source": [
    "### The models are used to predict the test set data."
   ]
  },
  {
   "cell_type": "code",
   "execution_count": 19,
   "metadata": {
    "scrolled": true
   },
   "outputs": [
    {
     "name": "stdout",
     "output_type": "stream",
     "text": [
      "[ 1.07736926e+02  4.84933247e+01  1.22238709e+02  1.07571257e+02\n",
      "  1.52756104e+02  1.39314700e+02  1.37404720e+02  2.76882257e+01\n",
      "  4.72997061e+01  8.05809764e+01  1.50146806e+02  8.72137582e+01\n",
      "  1.20950914e+02  1.33721472e+02  4.16209068e+01  1.43504493e+02\n",
      "  5.40425358e+06  6.64389526e+01  1.24172620e+02  8.82449152e+01\n",
      "  1.01536269e+02  1.10589782e+02  1.54907127e+02  1.09574427e+02\n",
      "  1.52499515e+02  1.03927207e+02  7.45389745e+01  1.36348164e+02\n",
      "  9.97769495e+01  1.09003340e+02  6.45263598e+01  5.19548658e+01\n",
      "  1.40509306e+02  1.05365917e+02  1.04698750e+02  8.13599248e+01\n",
      "  7.59296067e+01  1.13051258e+02  6.45577214e+01  1.18916648e+02\n",
      "  1.71353976e+02  1.12974745e+02  7.63572725e+01  1.04616185e+02\n",
      "  1.59474124e+02  8.55778822e+01  1.54544677e+02  3.40718812e+06\n",
      "  1.42459031e+02  8.71771519e+01  1.17394981e+02  1.21746361e+02\n",
      "  1.05120380e+02  1.00336695e+02  9.26670224e+01  1.27171962e+02\n",
      "  7.63572725e+01  8.50853264e+01  1.70998202e+02  1.37480070e+02\n",
      "  1.22095443e+02  1.13603611e+02  1.38608901e+02  1.43823578e+02\n",
      "  9.54578867e+01  1.07433166e+02  1.12090799e+02  1.31463263e+02\n",
      "  1.18827041e+02  8.89403209e+01  1.59474124e+02  1.31463263e+02\n",
      "  5.78365951e+01  1.27898257e+02  2.57491523e+01  9.54578867e+01\n",
      "  7.06010116e+01  9.90540659e+01  9.42267181e+01  9.69257266e+01\n",
      "  1.21164506e+02  1.24179035e+02  1.22589179e+11  1.23142600e+02\n",
      "  1.00262733e+02  1.05550542e+02  9.44305965e+01  2.56475685e+01\n",
      "  1.27230268e+02  1.13527511e+02  1.68036970e+02  1.21658585e+02\n",
      "  7.34171400e+01  4.84933247e+01  1.11548900e+02  5.40427483e+06\n",
      "  8.88069379e+01  5.53555692e+01  1.02263354e+02  8.18039893e+01\n",
      "  1.11802961e+02  1.29382811e+02  1.16403891e+02  9.47696557e+01\n",
      "  8.42446667e+01  1.26953543e+02  1.19547496e+02  7.59296067e+01\n",
      "  4.96926407e+01  1.64760683e+02  9.48109224e+01  1.03020228e+02\n",
      "  1.01529353e+02  1.26327063e+02  5.11892216e+01  1.19410062e+02\n",
      "  5.53555692e+01  7.61557226e+01  9.36489640e+01  7.34171400e+01\n",
      "  7.81207806e+01  7.87088068e+01  9.26670224e+01  9.39622986e+01\n",
      "  7.73281549e+01  1.83938107e+02  7.68540128e+01  8.01155546e+01\n",
      "  7.94554067e+01  1.33651597e+02  1.29382811e+02  1.33809088e+02\n",
      " -2.63826165e+01  1.52662339e+02  1.06809766e+02  5.53260237e+01\n",
      "  1.20881640e+02  1.13938683e+02  9.46866197e+01  1.61130667e+02\n",
      "  5.40424732e+06  5.23578285e+01  7.58021189e+01  1.15630686e+02\n",
      "  8.89502740e+01  1.06356906e+02  1.83681943e+02  1.32351194e+02\n",
      "  8.22762144e+01]\n",
      "[107.61840926  78.89693579 110.61687293 128.73973658 139.38212344\n",
      " 128.020305   125.41647095  55.82342648  67.95600588  97.83760156\n",
      "  99.42918614  79.54349508 121.16572598  99.72233555  82.41345389\n",
      " 125.48801944  80.8516029   87.94971323 105.39841964  92.37702273\n",
      "  90.53189164 102.93263496 146.8577363  101.26814207 138.91090128\n",
      "  97.01470385  88.53517974 131.4156669  100.90420792 103.63957405\n",
      "  79.08520999  76.57863405 114.70040816 102.97155692 100.42898904\n",
      " 105.43557504  83.69809399  94.39127384  90.02290918 120.39420383\n",
      " 107.48647603 113.29067295 100.98921717 110.64481367 148.26419479\n",
      " 101.41889925 134.11498971 119.21434277 122.09945084 100.95794092\n",
      " 119.49557328 112.27728149 100.35546005 107.01136112  93.85821215\n",
      " 119.17406514 100.98921717  83.45626688 107.67451617 124.54519101\n",
      " 101.60372976 100.99329553 117.93271643 130.39964681 102.16185736\n",
      " 107.30488195 108.43786188 127.50356238 127.43737606 100.55387029\n",
      " 148.26419479 127.50356238  78.88109214 117.04068327  55.41427359\n",
      " 102.16185736  96.90064323 103.24292237 109.77139096 102.71625377\n",
      " 113.45830224 112.61392776 114.77000823 117.92801211 106.52398416\n",
      "  99.99830669  99.94702849  48.82764469 116.14952643 106.40773949\n",
      " 106.87722328 110.92349063  80.62040413  78.89693579 101.22071145\n",
      " 122.2422627  100.8193092   81.2558707   94.75362284 105.40712982\n",
      "  92.34364956 117.31952931 114.83802927  96.94741304 108.08581627\n",
      " 107.69641392 101.78644951  83.69809399  77.81716879 138.34564729\n",
      "  92.00654275 105.40335646  92.22696991 125.88182963  98.43614751\n",
      "  96.43001712  81.2558707   71.69032089 101.45031978  80.62040413\n",
      "  77.77246363  98.64200652  93.85821215  92.01295093  79.73995683\n",
      " 144.17872609 109.11319942 105.80235483 104.72299857 115.82375132\n",
      " 117.31952931  99.67602716  60.41684032  90.96072145 130.62900195\n",
      "  60.89282538 114.21938203 111.70298084  99.37789083 145.87725621\n",
      "  83.67803732  64.86110359  97.80242592 114.65570371  87.30162041\n",
      "  96.10713678 105.80727297 127.63205451  91.55109343]\n",
      "[114.45        52.63888889 151.5        121.91666667 149.25\n",
      " 115.28611111 143.20277778  51.82222222  58.06944444  70.06944444\n",
      " 158.76527778  64.61944444 110.6        117.42777778 109.15277778\n",
      " 137.30555556  60.33055556  68.5125     102.35555556  94.83888889\n",
      " 118.14166667 142.5        149.125      111.825      139.25\n",
      " 105.71111111  64.40555556 150.08055556 101.525       98.55277778\n",
      "  94.06944444  55.73055556 125.59444444 103.55277778 105.48888889\n",
      "  88.45277778  89.68611111 109.275       65.49722222 117.19166667\n",
      " 205.25       122.32777778  94.96388889  82.13611111 159.01666667\n",
      "  81.00277778 137.07777778 112.77916667 128.43333333 104.93611111\n",
      " 114.86111111  82.24722222  75.69444444 100.81388889  87.09444444\n",
      " 118.48333333  94.96388889  67.57638889 239.76944444 134.14444444\n",
      " 112.35555556  91.89166667 105.23333333 142.075       93.5\n",
      " 107.73333333 126.65555556 136.57222222 120.91944444 104.26944444\n",
      " 159.01666667 136.57222222  75.95       131.49444444  26.64444444\n",
      "  93.5         69.65        83.96388889  97.75        91.31111111\n",
      " 132.44166667  98.93888889 119.34722222 119.34444444  91.63611111\n",
      " 131.91666667  88.99722222  22.29722222 102.88888889 106.33611111\n",
      " 116.38611111 143.69166667  81.26666667  52.63888889 124.20555556\n",
      "  99.83333333  93.89444444  56.74444444  98.72777778  77.30277778\n",
      "  92.31666667 102.90833333 121.05555556 108.46944444  76.60555556\n",
      " 122.78611111 117.475       89.68611111  83.19722222 134.52222222\n",
      "  77.89722222 108.175       94.34166667 117.84722222  66.50277778\n",
      "  89.73333333  56.74444444  69.38055556  98.55        81.26666667\n",
      "  61.04722222  84.64166667  87.09444444  94.44444444  71.76388889\n",
      " 192.51388889  84.21388889  91.06944444  88.96944444 168.92222222\n",
      " 102.90833333 117.42777778  25.625      135.53194444 120.04444444\n",
      "  59.21388889  92.89166667 146.56388889 100.86944444 129.74444444\n",
      "  65.88888889  57.73611111  65.60555556 106.34166667  80.65555556\n",
      "  92.03333333  98.80277778 134.53055556  99.03055556]\n"
     ]
    }
   ],
   "source": [
    "#test ensembles\n",
    "tpred_lm = lm.predict(x_test)\n",
    "tpred_lml = lm_l.predict(x_test)\n",
    "tpred_rf = gs.best_estimator_.predict(x_test)"
   ]
  },
  {
   "cell_type": "markdown",
   "metadata": {},
   "source": [
    "### Mean absolute error is one of the evaluation metrics in regression models. In the context of regression, the error of the model is the difference between the data points and the trend line generated by the algorithm. Mean absolute error is the mean of the absolute value of the errors. This is the easiest of the metrics to understand, since it's just the average error."
   ]
  },
  {
   "cell_type": "code",
   "execution_count": 30,
   "metadata": {},
   "outputs": [
    {
     "name": "stdout",
     "output_type": "stream",
     "text": [
      "Linear Regression : MAE = 822877862.1200092\n",
      "LASSO Regression : MAE = 23.40219396588572\n",
      "Random Forest : MAE = 11.115277777777775\n"
     ]
    }
   ],
   "source": [
    "from sklearn.metrics import mean_absolute_error\n",
    "\n",
    "p_lm=mean_absolute_error(y_test,tpred_lm)\n",
    "print(f\"Linear Regression : MAE = {p_lm}\")\n",
    "p_lml=mean_absolute_error(y_test,tpred_lml)\n",
    "print(f\"LASSO Regression : MAE = {p_lml}\")\n",
    "p_rf=mean_absolute_error(y_test,tpred_rf)\n",
    "print(f\"Random Forest : MAE = {p_rf}\")"
   ]
  },
  {
   "cell_type": "markdown",
   "metadata": {},
   "source": [
    "### The Random Forest model performs better (MAE = 11.11) than other models on the test and validation sets."
   ]
  },
  {
   "cell_type": "code",
   "execution_count": null,
   "metadata": {},
   "outputs": [],
   "source": []
  }
 ],
 "metadata": {
  "kernelspec": {
   "display_name": "Python 3",
   "language": "python",
   "name": "python3"
  },
  "language_info": {
   "codemirror_mode": {
    "name": "ipython",
    "version": 3
   },
   "file_extension": ".py",
   "mimetype": "text/x-python",
   "name": "python",
   "nbconvert_exporter": "python",
   "pygments_lexer": "ipython3",
   "version": "3.7.4"
  }
 },
 "nbformat": 4,
 "nbformat_minor": 2
}
